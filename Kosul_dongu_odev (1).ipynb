{
 "cells": [
  {
   "cell_type": "markdown",
   "id": "409f0f4a",
   "metadata": {},
   "source": [
    "**Ödev-1:** Kullanıcıdan maaş bilgisini istenir ve bu bilgiye göre maaşından ne kadar vergi kesileceğini hesaplanır. Kullanıcının geliri;\n",
    "\n",
    "1. 10000 ve altındaysa maaşından %5 kesinti olur.\n",
    "2. 25000 ve altındaysa maaşından %10 kesinti olur.\n",
    "3. 45000 ve altındaysa maaşından %25 kesinti olur.\n",
    "4. Diğer koşullarda %30 kesinti olur.\n",
    "\n",
    "Bu durumlara göre kullanıcının yeni maaşı yazdırılır."
   ]
  },
  {
   "cell_type": "code",
   "execution_count": null,
   "id": "5246e510",
   "metadata": {},
   "outputs": [],
   "source": []
  },
  {
   "cell_type": "markdown",
   "id": "f5fe8798",
   "metadata": {},
   "source": [
    "**Ödev-2:** Kullanıcıdan kullanıcı adı ve şifre oluşturmasını istenir. Şifrenin uzunluğu altı haneye ulaşmışsa hesabınız oluşturuldu mesajı alınır, altı haneden azsa altı haneli şifre oluşturması gerektiğinin mesajı alınır. *(Sadece koşul kullanılması yeterli.)*"
   ]
  },
  {
   "cell_type": "code",
   "execution_count": null,
   "id": "6acffe57",
   "metadata": {},
   "outputs": [],
   "source": [
    "kullanici_adi = int(input(\"Kullanıcı adı giriniz: \"))\n",
    "print(\"kullanici_adi:\",ad)"
   ]
  },
  {
   "cell_type": "code",
   "execution_count": null,
   "id": "7c620e69",
   "metadata": {},
   "outputs": [],
   "source": [
    "şifre = int(input(\"6 haneli bir şifre oluşturunuz: \"))\n",
    "if len(password) >= 6:\n",
    "    print(\"Hesabınız oluşturuldu!\")\n",
    "else:\n",
    "    print(\"Şifreniz en az altı karakter uzunluğunda olmalıdır. Lütfen altı haneli bir şifre oluşturun.\")"
   ]
  },
  {
   "cell_type": "markdown",
   "id": "aaccf11a",
   "metadata": {},
   "source": [
    "**Ödev-3:** Bir önceki örnek geliştirilir.\n",
    "\n",
    "1. Kullanıcı girdiği şifre 5 ve 10 hane arasında olmak zorunda.\n",
    "2. Eğer bu koşula uyuyorsa \"Hesabınız oluşturuldu.\" mesajı alır.\n",
    "3. Koşulu sağlamıyorsa \"Lütfen girdiniz şifre 5 haneden az 10 haneden fazla olmasın!\" uyarısı alır.\n",
    "4. Bunu oluştururken kullanıcı istediğimiz şartlarda şifre oluşturana kadar sormaya devam eder"
   ]
  },
  {
   "cell_type": "code",
   "execution_count": null,
   "id": "039e50dc",
   "metadata": {},
   "outputs": [],
   "source": [
    "while True:\n",
    "    password = input(\"Şifre oluşturun (5-10 karakter arası): \")\n",
    "    \n",
    "    if 5 <= len(password) <= 10:\n",
    "        print(\"Hesabınız oluşturuldu!\")\n",
    "        break\n",
    "    else:\n",
    "        print(\"Lütfen girdiğiniz şifre 5 haneden az veya 10 haneden fazla olmasın!\")"
   ]
  },
  {
   "cell_type": "markdown",
   "id": "8ba81863",
   "metadata": {},
   "source": [
    "**Ödev-4:** Kullanıcıdan isim ve şifre isteyeceğiz ve şifre girişi için üç hak verilir.\n",
    "\n",
    "1. Eğer önceden tanımlı şifre ile kullanıcıdan gelen şifre aynıysa \"Giriş yapıldı.\" yazar.\n",
    "2. Şifre girişi yanlışsa \"Yanlış şifre girildi!\" uyarısı verilsin ve üç yanlış denemede program biter.\n",
    "3. Tercihe göre kalan hak bilgisi verilir."
   ]
  },
  {
   "cell_type": "code",
   "execution_count": null,
   "id": "8f45ea0c",
   "metadata": {},
   "outputs": [],
   "source": [
    "# Önceden tanımlı kullanıcı adı ve şifre\n",
    "dogru_username = \"kullanici\"\n",
    "dogru_password = \"gucluSifre123\"\n",
    "\n",
    "# Kullanıcıdan isim girişi\n",
    "username = input(\"Kullanıcı adınızı girin: \")\n",
    "\n",
    "# Kullanıcı adının doğru olup olmadığını kontrol etme\n",
    "if username != dogru_username:\n",
    "    print(\"Kullanıcı adı bulunamadı. Program sonlandırılıyor.\")\n",
    "else:\n",
    "    remaining_tries = 3  # Kalan deneme hakkı\n",
    "\n",
    "    # Şifre deneme döngüsü\n",
    "    while remaining_tries > 0:\n",
    "        password = input(\"Şifrenizi girin: \")\n",
    "\n",
    "        if password == dogru_password:\n",
    "            print(\"Giriş yapıldı.\")\n",
    "            break\n",
    "        else:\n",
    "            remaining_tries -= 1\n",
    "            if remaining_tries > 0:\n",
    "                print(f\"Yanlış şifre girdiniz. Kalan deneme hakkınız: {remaining_tries}\")\n",
    "            else:\n",
    "                print(\"Üç kez yanlış şifre girdiniz. Program sonlandırılıyor.\")\n"
   ]
  }
 ],
 "metadata": {
  "kernelspec": {
   "display_name": "Python 3 (ipykernel)",
   "language": "python",
   "name": "python3"
  },
  "language_info": {
   "codemirror_mode": {
    "name": "ipython",
    "version": 3
   },
   "file_extension": ".py",
   "mimetype": "text/x-python",
   "name": "python",
   "nbconvert_exporter": "python",
   "pygments_lexer": "ipython3",
   "version": "3.9.12"
  }
 },
 "nbformat": 4,
 "nbformat_minor": 5
}
